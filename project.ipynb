{
 "cells": [
  {
   "cell_type": "markdown",
   "metadata": {},
   "source": [
    "## Data processing by group BCA24-26\n",
    "In this assignment we are taking penguines data set. We took this data ser from Kaggle website whuct contain numbers of data sets.\n",
    "# Team member\n",
    "1. Manoj Bhattarai\n",
    "2. Nabin Yari\n",
    "3. Sakshi \n",
    "4. Pravesh \n",
    "5. Prayusha Poudel\n",
    "## Here in this data set we will do\n",
    " 1. Data Preprocessing\n",
    " 2. Data Objects and Attribute Types\n",
    " 3. Basic Statistics\n",
    " 4. Visualization"
   ]
  },
  {
   "cell_type": "markdown",
   "metadata": {},
   "source": [
    "# 1. Data processing \n"
   ]
  },
  {
   "cell_type": "code",
   "execution_count": 4,
   "metadata": {},
   "outputs": [],
   "source": [
    "# Import necessary libraries\n",
    "import pandas as pd\n",
    "import numpy as np"
   ]
  },
  {
   "cell_type": "markdown",
   "metadata": {},
   "source": [
    "# Loading the data set "
   ]
  },
  {
   "cell_type": "code",
   "execution_count": 5,
   "metadata": {},
   "outputs": [
    {
     "data": {
      "text/html": [
       "<div>\n",
       "<style scoped>\n",
       "    .dataframe tbody tr th:only-of-type {\n",
       "        vertical-align: middle;\n",
       "    }\n",
       "\n",
       "    .dataframe tbody tr th {\n",
       "        vertical-align: top;\n",
       "    }\n",
       "\n",
       "    .dataframe thead th {\n",
       "        text-align: right;\n",
       "    }\n",
       "</style>\n",
       "<table border=\"1\" class=\"dataframe\">\n",
       "  <thead>\n",
       "    <tr style=\"text-align: right;\">\n",
       "      <th></th>\n",
       "      <th>id</th>\n",
       "      <th>species</th>\n",
       "      <th>island</th>\n",
       "      <th>bill_length_mm</th>\n",
       "      <th>bill_depth_mm</th>\n",
       "      <th>flipper_length_mm</th>\n",
       "      <th>body_mass_g</th>\n",
       "      <th>sex</th>\n",
       "      <th>year</th>\n",
       "    </tr>\n",
       "  </thead>\n",
       "  <tbody>\n",
       "    <tr>\n",
       "      <th>0</th>\n",
       "      <td>0</td>\n",
       "      <td>Adelie</td>\n",
       "      <td>Torgersen</td>\n",
       "      <td>39.1</td>\n",
       "      <td>18.7</td>\n",
       "      <td>181.0</td>\n",
       "      <td>3750.0</td>\n",
       "      <td>male</td>\n",
       "      <td>2007</td>\n",
       "    </tr>\n",
       "    <tr>\n",
       "      <th>1</th>\n",
       "      <td>1</td>\n",
       "      <td>Adelie</td>\n",
       "      <td>Torgersen</td>\n",
       "      <td>39.5</td>\n",
       "      <td>17.4</td>\n",
       "      <td>186.0</td>\n",
       "      <td>3800.0</td>\n",
       "      <td>female</td>\n",
       "      <td>2007</td>\n",
       "    </tr>\n",
       "    <tr>\n",
       "      <th>2</th>\n",
       "      <td>2</td>\n",
       "      <td>Adelie</td>\n",
       "      <td>Torgersen</td>\n",
       "      <td>40.3</td>\n",
       "      <td>18.0</td>\n",
       "      <td>195.0</td>\n",
       "      <td>3250.0</td>\n",
       "      <td>female</td>\n",
       "      <td>2007</td>\n",
       "    </tr>\n",
       "    <tr>\n",
       "      <th>3</th>\n",
       "      <td>3</td>\n",
       "      <td>Adelie</td>\n",
       "      <td>Torgersen</td>\n",
       "      <td>NaN</td>\n",
       "      <td>NaN</td>\n",
       "      <td>NaN</td>\n",
       "      <td>NaN</td>\n",
       "      <td>NaN</td>\n",
       "      <td>2007</td>\n",
       "    </tr>\n",
       "    <tr>\n",
       "      <th>4</th>\n",
       "      <td>4</td>\n",
       "      <td>Adelie</td>\n",
       "      <td>Torgersen</td>\n",
       "      <td>36.7</td>\n",
       "      <td>19.3</td>\n",
       "      <td>193.0</td>\n",
       "      <td>3450.0</td>\n",
       "      <td>female</td>\n",
       "      <td>2007</td>\n",
       "    </tr>\n",
       "  </tbody>\n",
       "</table>\n",
       "</div>"
      ],
      "text/plain": [
       "   id species     island  bill_length_mm  bill_depth_mm  flipper_length_mm  \\\n",
       "0   0  Adelie  Torgersen            39.1           18.7              181.0   \n",
       "1   1  Adelie  Torgersen            39.5           17.4              186.0   \n",
       "2   2  Adelie  Torgersen            40.3           18.0              195.0   \n",
       "3   3  Adelie  Torgersen             NaN            NaN                NaN   \n",
       "4   4  Adelie  Torgersen            36.7           19.3              193.0   \n",
       "\n",
       "   body_mass_g     sex  year  \n",
       "0       3750.0    male  2007  \n",
       "1       3800.0  female  2007  \n",
       "2       3250.0  female  2007  \n",
       "3          NaN     NaN  2007  \n",
       "4       3450.0  female  2007  "
      ]
     },
     "execution_count": 5,
     "metadata": {},
     "output_type": "execute_result"
    }
   ],
   "source": [
    "penguin_data =  pd.read_csv(\"penguins.csv\")\n",
    "\n",
    "# Displaying  the first few rows of the dataset\n",
    "penguin_data.head()\n"
   ]
  },
  {
   "cell_type": "markdown",
   "metadata": {},
   "source": [
    "# Explore the dataset by:\n",
    " 1. Viewing random samples of data.\n",
    " 2. Identifying the total number of rows and columns."
   ]
  },
  {
   "cell_type": "code",
   "execution_count": 6,
   "metadata": {},
   "outputs": [
    {
     "name": "stdout",
     "output_type": "stream",
     "text": [
      "<class 'pandas.core.frame.DataFrame'>\n",
      "RangeIndex: 344 entries, 0 to 343\n",
      "Data columns (total 9 columns):\n",
      " #   Column             Non-Null Count  Dtype  \n",
      "---  ------             --------------  -----  \n",
      " 0   id                 344 non-null    int64  \n",
      " 1   species            344 non-null    object \n",
      " 2   island             344 non-null    object \n",
      " 3   bill_length_mm     342 non-null    float64\n",
      " 4   bill_depth_mm      342 non-null    float64\n",
      " 5   flipper_length_mm  342 non-null    float64\n",
      " 6   body_mass_g        342 non-null    float64\n",
      " 7   sex                333 non-null    object \n",
      " 8   year               344 non-null    int64  \n",
      "dtypes: float64(4), int64(2), object(3)\n",
      "memory usage: 24.3+ KB\n"
     ]
    }
   ],
   "source": [
    "# using the .info() function to explor the basic information of the data\n",
    "penguin_data.info()"
   ]
  },
  {
   "cell_type": "code",
   "execution_count": 7,
   "metadata": {},
   "outputs": [
    {
     "data": {
      "text/plain": [
       "id                     int64\n",
       "species               object\n",
       "island                object\n",
       "bill_length_mm       float64\n",
       "bill_depth_mm        float64\n",
       "flipper_length_mm    float64\n",
       "body_mass_g          float64\n",
       "sex                   object\n",
       "year                   int64\n",
       "dtype: object"
      ]
     },
     "execution_count": 7,
     "metadata": {},
     "output_type": "execute_result"
    }
   ],
   "source": [
    "# using the .dtypes to know the data type of the datatype of the colums\n",
    "penguin_data.dtypes"
   ]
  },
  {
   "cell_type": "code",
   "execution_count": 10,
   "metadata": {},
   "outputs": [
    {
     "data": {
      "text/plain": [
       "(344, 9)"
      ]
     },
     "execution_count": 10,
     "metadata": {},
     "output_type": "execute_result"
    }
   ],
   "source": [
    "# identifying the total number of rows and columns\n",
    "# penguin_data.columns\n",
    "penguin_data.shape \n",
    "# penguin_data.values"
   ]
  },
  {
   "cell_type": "markdown",
   "metadata": {},
   "source": [
    "# Handle missing values by:\n",
    "  1. Calculating the percentage of missing data.\n",
    "  2. Deciding and implementing a method for handling missing values (e.g., filling or dropping)."
   ]
  },
  {
   "cell_type": "code",
   "execution_count": 8,
   "metadata": {},
   "outputs": [
    {
     "name": "stdout",
     "output_type": "stream",
     "text": [
      "id                   0.000000\n",
      "species              0.000000\n",
      "island               0.000000\n",
      "bill_length_mm       0.581395\n",
      "bill_depth_mm        0.581395\n",
      "flipper_length_mm    0.581395\n",
      "body_mass_g          0.581395\n",
      "sex                  3.197674\n",
      "year                 0.000000\n",
      "dtype: float64\n"
     ]
    },
    {
     "data": {
      "text/plain": [
       "id                    0\n",
       "species               0\n",
       "island                0\n",
       "bill_length_mm        2\n",
       "bill_depth_mm         2\n",
       "flipper_length_mm     2\n",
       "body_mass_g           2\n",
       "sex                  11\n",
       "year                  0\n",
       "dtype: int64"
      ]
     },
     "execution_count": 8,
     "metadata": {},
     "output_type": "execute_result"
    }
   ],
   "source": [
    "missing_data = penguin_data.isnull().sum() / len(penguin_data) * 100\n",
    "print(missing_data)\n",
    "penguin_data.isnull().sum()\n"
   ]
  },
  {
   "cell_type": "markdown",
   "metadata": {},
   "source": [
    "# Filling the missing data with some values according the column data values"
   ]
  },
  {
   "cell_type": "code",
   "execution_count": 12,
   "metadata": {},
   "outputs": [
    {
     "data": {
      "text/plain": [
       "id                   0\n",
       "species              0\n",
       "island               0\n",
       "bill_length_mm       0\n",
       "bill_depth_mm        0\n",
       "flipper_length_mm    0\n",
       "body_mass_g          0\n",
       "sex                  0\n",
       "year                 0\n",
       "dtype: int64"
      ]
     },
     "execution_count": 12,
     "metadata": {},
     "output_type": "execute_result"
    }
   ],
   "source": [
    "# filling the missing column of sex wth femle\n",
    "penguin_data['sex'] = penguin_data['sex'].fillna('femle')\n",
    "\n",
    "# filling the bill_length_mm column with it's average value\n",
    "mean_data = penguin_data['bill_length_mm'].mean()\n",
    "penguin_data['bill_length_mm'] = penguin_data['bill_length_mm'].fillna(mean_data)\n",
    "\n",
    "# filling the bill_depth_mm colum withs it's average  value\n",
    "average_data = penguin_data['bill_depth_mm'].mean()\n",
    "penguin_data[\"bill_depth_mm\"] = penguin_data['bill_depth_mm'].fillna(average_data)\n",
    "\n",
    "# filling the flipper_length_mm column with it's average value\n",
    "flipper_length_mm_average = penguin_data['flipper_length_mm'].mean()\n",
    "penguin_data['flipper_length_mm'] = penguin_data['flipper_length_mm'].fillna(flipper_length_mm_average)\n",
    "\n",
    "# filling the body_mass_g with it's mean value\n",
    "mean_value = penguin_data['body_mass_g'].mean()\n",
    "penguin_data['body_mass_g'] = penguin_data['body_mass_g'].fillna(mean_data)\n",
    "\n",
    "# conforming the columns are still empty or not\n",
    "penguin_data.isnull().sum()"
   ]
  },
  {
   "cell_type": "markdown",
   "metadata": {},
   "source": [
    "# 2. Data Objects and Attribute Types\n",
    "1. Nominal attributes\n",
    "2. Binary attributes\n",
    "3. Ordinal attributes\n"
   ]
  },
  {
   "cell_type": "markdown",
   "metadata": {},
   "source": [
    "# Nominal attributes\n",
    "Nominal attributes represent the data of different categories or groups without any specific order."
   ]
  },
  {
   "cell_type": "markdown",
   "metadata": {},
   "source": [
    "For example: \n",
    "City names - New York, Tokyo, Paris are just names of cities without a specific rank or other quality."
   ]
  },
  {
   "cell_type": "code",
   "execution_count": 14,
   "metadata": {},
   "outputs": [
    {
     "name": "stdout",
     "output_type": "stream",
     "text": [
      "\n",
      "Nominal attributes:\n",
      "Index(['species', 'island', 'sex'], dtype='object')\n"
     ]
    }
   ],
   "source": [
    "# penguin_data.select_dtypes(include=['object']).columns helps to Selects only the columns in penguin_data that have the data type 'object'\n",
    "nominal_attributes_data = penguin_data.select_dtypes(include=['object']).columns\n",
    "print(\"\\nNominal attributes:\")\n",
    "print(nominal_attributes_data)"
   ]
  },
  {
   "cell_type": "markdown",
   "metadata": {},
   "source": [
    "# Binary attributes \n",
    "This attributes has exactly two values either true or false or we can say 0 or 1.\n",
    "  For example- sex there can be either male or female in penguin data set \n"
   ]
  },
  {
   "cell_type": "code",
   "execution_count": 20,
   "metadata": {},
   "outputs": [
    {
     "name": "stdout",
     "output_type": "stream",
     "text": [
      "\n",
      "Binary attributes:\n",
      "['sex']\n"
     ]
    }
   ],
   "source": [
    "binary_attributes = [i for i in penguin_data.columns if penguin_data[i].nunique() == 2]\n",
    "print(\"\\nBinary attributes:\")\n",
    "print(binary_attributes)\n"
   ]
  },
  {
   "cell_type": "markdown",
   "metadata": {},
   "source": [
    "# Odinal attributes \n",
    "Ordinal attributes are categories that have a meaningful order or ranking, but the distance between the categories is not clear or consistent."
   ]
  },
  {
   "cell_type": "code",
   "execution_count": 22,
   "metadata": {},
   "outputs": [
    {
     "name": "stdout",
     "output_type": "stream",
     "text": [
      "\n",
      "Odinal attributes:\n",
      "Index(['id', 'bill_length_mm', 'bill_depth_mm', 'flipper_length_mm',\n",
      "       'body_mass_g', 'year'],\n",
      "      dtype='object')\n"
     ]
    }
   ],
   "source": [
    "ordinal_attributes_data = penguin_data.select_dtypes(include=['float64', 'int64']).columns\n",
    "print(\"\\nOdinal attributes:\")\n",
    "print(ordinal_attributes_data)"
   ]
  },
  {
   "cell_type": "markdown",
   "metadata": {},
   "source": [
    "## 3. Basic Statistics\n",
    " # Use NumPy to perform fundamental statistical calculations, such as:\n",
    "\n",
    "1. Mean (average)\n",
    "2. Median\n",
    "3. Standard Deviation\n",
    "4. Variance\n",
    "5. Minimum and Maximum values\n",
    "6. Sum and Product of data"
   ]
  },
  {
   "cell_type": "code",
   "execution_count": 13,
   "metadata": {},
   "outputs": [
    {
     "name": "stdout",
     "output_type": "stream",
     "text": [
      "The mean value of flipper_length_mm is 200.91520467836258\n"
     ]
    }
   ],
   "source": [
    "# Calculaing the mean(average) value\n",
    "flipper_length_mm_mean = np.mean(penguin_data['flipper_length_mm'])\n",
    "print(\"The mean value of flipper_length_mm is\",flipper_length_mm_mean)"
   ]
  },
  {
   "cell_type": "code",
   "execution_count": 14,
   "metadata": {},
   "outputs": [
    {
     "name": "stdout",
     "output_type": "stream",
     "text": [
      "The median value of the column is 4025.0\n"
     ]
    }
   ],
   "source": [
    "# Calculating the median\n",
    "median_body_mass_g = np.median(penguin_data['body_mass_g'])\n",
    "print('The median value of the column is',median_body_mass_g)"
   ]
  },
  {
   "cell_type": "code",
   "execution_count": 15,
   "metadata": {},
   "outputs": [
    {
     "name": "stdout",
     "output_type": "stream",
     "text": [
      "The standard data of the bill_length_mm cloumn is 5.435725258705345\n"
     ]
    }
   ],
   "source": [
    "# caclulating the Standard devation \n",
    "std_data = np.std(penguin_data['bill_length_mm'])\n",
    "print(\"The standard data of the bill_length_mm cloumn is\",std_data)"
   ]
  },
  {
   "cell_type": "code",
   "execution_count": 16,
   "metadata": {},
   "outputs": [
    {
     "name": "stdout",
     "output_type": "stream",
     "text": [
      "The minimum value of bill_depth_mm is 13.1\n",
      "The maximum value of bill_depth_mm is 21.5\n"
     ]
    }
   ],
   "source": [
    "# Calculating the maximun and minimum value\n",
    "min_data = np.min(penguin_data['bill_depth_mm'])\n",
    "print(\"The minimum value of bill_depth_mm is\",min_data)\n",
    "\n",
    "max_data = np.max(penguin_data['bill_depth_mm'])\n",
    "print(\"The maximum value of bill_depth_mm is\", max_data)"
   ]
  },
  {
   "cell_type": "code",
   "execution_count": 17,
   "metadata": {},
   "outputs": [
    {
     "name": "stdout",
     "output_type": "stream",
     "text": [
      "The sum of two column bill_depth_mm is 5900.0023391812865\n",
      "The product of two column bill_depth_mm and bill_length_mm.\n",
      "0       731.170000\n",
      "1       687.300000\n",
      "2       725.400000\n",
      "3       753.312467\n",
      "4       708.310000\n",
      "          ...     \n",
      "339    1104.840000\n",
      "340     787.350000\n",
      "341     902.720000\n",
      "342     965.200000\n",
      "343     938.740000\n",
      "Length: 344, dtype: float64\n"
     ]
    }
   ],
   "source": [
    "#  Calculating the sum and the product value\n",
    "sum_value = np.sum(penguin_data['bill_depth_mm'])\n",
    "print(\"The sum of two column bill_depth_mm is\",sum_value)\n",
    "\n",
    "product_value = np.multiply(penguin_data['bill_depth_mm'], penguin_data['bill_length_mm'])\n",
    "print(\"The product of two column bill_depth_mm and bill_length_mm.\")\n",
    "print(product_value)"
   ]
  },
  {
   "cell_type": "markdown",
   "metadata": {},
   "source": [
    "## 4. Visualization\n",
    "\n",
    "Leverage Matplotlib to create various plots and charts as needed for analysis:\n",
    "\n",
    "1. Line Plot\n",
    "2. Scatter Plot\n",
    "3. Bar Chart\n",
    "4. Histogram\n",
    "5. Pie Chart\n",
    "6. Heatmap"
   ]
  },
  {
   "cell_type": "markdown",
   "metadata": {},
   "source": [
    "# Importing the Matplotlib for various plot and charts"
   ]
  },
  {
   "cell_type": "code",
   "execution_count": 18,
   "metadata": {},
   "outputs": [],
   "source": [
    "import matplotlib.pyplot as npl"
   ]
  },
  {
   "cell_type": "markdown",
   "metadata": {},
   "source": [
    "# 1. Line Plot\n",
    "  A line plot is used to visualize trends over a sequence (e.g., year, species, etc.)."
   ]
  },
  {
   "cell_type": "code",
   "execution_count": null,
   "metadata": {},
   "outputs": [
    {
     "data": {
      "image/png": "[encoded data removed]",
      "text/plain": [
       "<Figure size 640x480 with 1 Axes>"
      ]
     },
     "metadata": {},
     "output_type": "display_data"
    }
   ],
   "source": [
    "\n",
    "npl.plot(penguin_data['species'],penguin_data['bill_length_mm'], marker= 'o', linestyle = '-')\n",
    "npl.title('Bill Length by Species')\n",
    "npl.xlabel('Species')\n",
    "npl.ylabel('Bill Length (mm)')\n",
    "npl.show()"
   ]
  },
  {
   "cell_type": "markdown",
   "metadata": {},
   "source": [
    "# 2. Bar Chart\n",
    "  A bar chart is used to compare categories (e.g., species and bill depth)."
   ]
  },
  {
   "cell_type": "code",
   "execution_count": 32,
   "metadata": {},
   "outputs": [
    {
     "data": {
      "image/png": "[encoded data removed]",
      "text/plain": [
       "<Figure size 800x500 with 1 Axes>"
      ]
     },
     "metadata": {},
     "output_type": "display_data"
    }
   ],
   "source": [
    "npl.figure(figsize=(8, 5))\n",
    "npl.bar(penguin_data['species'], penguin_data['body_mass_g'], color=['lightgreen'])\n",
    "npl.title('Body mass according to species')\n",
    "npl.xlabel('Species')\n",
    "npl.ylabel('body_mass_g')\n",
    "npl.show()"
   ]
  },
  {
   "cell_type": "markdown",
   "metadata": {},
   "source": [
    "# 3. Pie Chart\n",
    "  A pie chart is used to show proportions."
   ]
  },
  {
   "cell_type": "code",
   "execution_count": null,
   "metadata": {},
   "outputs": [
    {
     "data": {
      "image/png": "[encoded data removed]",
      "text/plain": [
       "<Figure size 800x800 with 1 Axes>"
      ]
     },
     "metadata": {},
     "output_type": "display_data"
    }
   ],
   "source": [
    "species_nbr = penguin_data['species'].value_counts()  # Get counts for each species\n",
    "target_names = species_nbr.index  # Extracts the unique species names\n",
    "species_counts_values = species_nbr.values  #  Extracts the counts of each species from the species_counts\n",
    "\n",
    "# Plot the pie chart\n",
    "npl.figure(figsize=(8, 8))\n",
    "npl.pie(species_counts_values,labels=target_names,autopct='%1.1f%%',startangle=140)\n",
    "# autopct='%1.1f%%': Displays the percentage of each slice on the chart with one decimal place\n",
    "# startangle=140: Rotates the pie chart so that the first slice starts at an angle of 140 degrees for better visual alignment.\n",
    "npl.title('Proportion of Each Species in the Dataset')\n",
    "npl.axis('equal')\n",
    "npl.show()\n"
   ]
  },
  {
   "cell_type": "markdown",
   "metadata": {},
   "source": [
    "Thank You!!\n",
    "\n"
   ]
  }
 ],
 "metadata": {
  "kernelspec": {
   "display_name": "Python 3",
   "language": "python",
   "name": "python3"
  },
  "language_info": {
   "codemirror_mode": {
    "name": "ipython",
    "version": 3
   },
   "file_extension": ".py",
   "mimetype": "text/x-python",
   "name": "python",
   "nbconvert_exporter": "python",
   "pygments_lexer": "ipython3",
   "version": "3.13.0"
  }
 },
 "nbformat": 4,
 "nbformat_minor": 2
}
